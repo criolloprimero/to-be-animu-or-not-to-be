{
 "cells": [
  {
   "cell_type": "code",
   "execution_count": null,
   "metadata": {},
   "outputs": [],
   "source": [
    "import os, shutil\n",
    "import random"
   ]
  },
  {
   "cell_type": "code",
   "execution_count": null,
   "metadata": {},
   "outputs": [],
   "source": [
    "#creating folder for storage of file, wo;\n",
    "main_photos= 'main_photos/'\n",
    "\n",
    "### setting up the sub directory\n",
    "\n",
    "train_set=os.path.join(main_photos,\"train\")\n",
    "train_anime=os.path.join(train_set,\"anime\")\n",
    "train_cartoon=os.path.join(train_set,\"cartoon\")\n",
    "\n",
    "test_set=os.path.join(main_photos,\"test\")\n",
    "test_anime=os.path.join(test_set,\"anime\")\n",
    "test_cartoon=os.path.join(test_set,\"cartoon\")\n",
    "\n",
    "##create said folders\n",
    "os.mkdir(main_photos)\n",
    "\n",
    "os.mkdir(train_set)\n",
    "os.mkdir(train_anime)\n",
    "os.mkdir(train_cartoon)\n",
    "\n",
    "os.mkdir(test_set)\n",
    "os.mkdir(test_anime)\n",
    "os.mkdir(test_cartoon)"
   ]
  },
  {
   "cell_type": "code",
   "execution_count": null,
   "metadata": {},
   "outputs": [],
   "source": [
    "#for reference and to explore data\n",
    "anime_set='archive/Training Data/Anime'\n",
    "cartoon_set='archive/Training Data/Cartoon'"
   ]
  },
  {
   "cell_type": "code",
   "execution_count": null,
   "metadata": {},
   "outputs": [],
   "source": [
    "currnumpic=0\n",
    "imgs_anime=f'pic{currnumpic}'\n",
    "\n",
    "for item in os.listdir(anime_set):\n",
    "    loca=os.listdir(anime_set+'/'+item)\n",
    "    print(loca)\n",
    "    for item2 in loca:\n",
    "        origin=os.path.join(anime_set+'/'+item+'/'+item2)\n",
    "\n",
    "        shutil.copyfile(origin,train_anime+'/'+str(currnumpic)+'.png')\n",
    "\n",
    "        print(origin+train_set)\n",
    "        currnumpic+=1\n",
    "\n",
    "        \n",
    "for item in os.listdir(cartoon_set):\n",
    "    loca=os.listdir(cartoon_set+'/'+item)\n",
    "    print(loca)\n",
    "    for item2 in loca:\n",
    "        origin=os.path.join(cartoon_set+'/'+item+'/'+item2)\n",
    "\n",
    "        shutil.copyfile(origin,train_cartoon+'/'+str(currnumpic)+'.png')\n",
    "\n",
    "        print(origin+train_set)\n",
    "        currnumpic+=1\n"
   ]
  },
  {
   "cell_type": "code",
   "execution_count": null,
   "metadata": {},
   "outputs": [],
   "source": [
    "### number of files to move and the code to do so\n",
    "for file_name in random.sample(os.listdir(train_anime),300):\n",
    "    shutil.move(os.path.join(train_anime,file_name),test_anime)"
   ]
  },
  {
   "cell_type": "code",
   "execution_count": null,
   "metadata": {},
   "outputs": [],
   "source": [
    "for file_name in random.sample(os.listdir(train_cartoon),300):\n",
    "    shutil.move(os.path.join(train_cartoon,file_name),test_cartoon)"
   ]
  }
 ],
 "metadata": {
  "kernelspec": {
   "display_name": "Python 3",
   "language": "python",
   "name": "python3"
  },
  "language_info": {
   "codemirror_mode": {
    "name": "ipython",
    "version": 3
   },
   "file_extension": ".py",
   "mimetype": "text/x-python",
   "name": "python",
   "nbconvert_exporter": "python",
   "pygments_lexer": "ipython3",
   "version": "3.8.5"
  },
  "toc": {
   "base_numbering": 1,
   "nav_menu": {},
   "number_sections": true,
   "sideBar": true,
   "skip_h1_title": false,
   "title_cell": "Table of Contents",
   "title_sidebar": "Contents",
   "toc_cell": false,
   "toc_position": {},
   "toc_section_display": true,
   "toc_window_display": false
  },
  "varInspector": {
   "cols": {
    "lenName": 16,
    "lenType": 16,
    "lenVar": 40
   },
   "kernels_config": {
    "python": {
     "delete_cmd_postfix": "",
     "delete_cmd_prefix": "del ",
     "library": "var_list.py",
     "varRefreshCmd": "print(var_dic_list())"
    },
    "r": {
     "delete_cmd_postfix": ") ",
     "delete_cmd_prefix": "rm(",
     "library": "var_list.r",
     "varRefreshCmd": "cat(var_dic_list()) "
    }
   },
   "types_to_exclude": [
    "module",
    "function",
    "builtin_function_or_method",
    "instance",
    "_Feature"
   ],
   "window_display": false
  }
 },
 "nbformat": 4,
 "nbformat_minor": 4
}
